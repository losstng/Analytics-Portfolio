{
 "cells": [
  {
   "cell_type": "markdown",
   "id": "f700e125",
   "metadata": {},
   "source": [
    "# Synthetic Marketing Analytics Project\n",
    "This notebook demonstrates a complete workflow for synthetic marketing analytics, including data generation, cleaning, customer segmentation, and A/B testing. The workflow is based on the code in `marketing_analytics.py`."
   ]
  },
  {
   "cell_type": "markdown",
   "id": "e7d35d9c",
   "metadata": {},
   "source": [
    "## 1. Import Required Libraries\n",
    "We import numpy, pandas, KMeans from scikit-learn, and proportions_ztest from statsmodels for data processing, clustering, and statistical testing."
   ]
  },
  {
   "cell_type": "code",
   "execution_count": 2,
   "id": "0a842a6b",
   "metadata": {},
   "outputs": [],
   "source": [
    "import numpy as np\n",
    "import pandas as pd\n",
    "from sklearn.cluster import KMeans\n",
    "from statsmodels.stats.proportion import proportions_ztest\n",
    "from pathlib import Path"
   ]
  },
  {
   "cell_type": "markdown",
   "id": "811717a1",
   "metadata": {},
   "source": [
    "## 2. Generate Synthetic Marketing Data\n",
    "We generate a synthetic marketing dataset with customer demographics, RFM features, group assignment, and purchase outcomes. The data is saved to a CSV file."
   ]
  },
  {
   "cell_type": "code",
   "execution_count": 3,
   "id": "fa2e0b09",
   "metadata": {},
   "outputs": [],
   "source": [
    "RNG = np.random.default_rng(seed=42)\n",
    "\n",
    "def generate_data(path: Path, n: int = 5000) -> pd.DataFrame:\n",
    "    \"\"\"Generate a complex, dirty synthetic marketing dataset.\"\"\"\n",
    "    customers = np.arange(1, n + 1)\n",
    "    ages = RNG.integers(18, 70, size=n)\n",
    "    genders = RNG.choice([\"M\", \"F\", \"male\", \"female\", \"Other\", \"unknown\", \"FEMALE\", \"MALE\"], size=n)\n",
    "    income = RNG.normal(50000, 20000, size=n)\n",
    "    region = RNG.choice([\"North\", \"South\", \"East\", \"West\", \"Unknown\", None], size=n)\n",
    "    signup_date = pd.to_datetime(\"2020-01-01\") + pd.to_timedelta(RNG.integers(0, 2000, size=n), unit=\"D\")\n",
    "    loyalty_score = RNG.uniform(0, 1, size=n)\n",
    "    preferred_channel = RNG.choice([\"Email\", \"SMS\", \"App\", \"Web\", \"Phone\", None], size=n)\n",
    "    device_type = RNG.choice([\"Mobile\", \"Desktop\", \"Tablet\", \"Other\", None], size=n)\n",
    "    recency = RNG.integers(1, 365, size=n).astype(float)\n",
    "    frequency = RNG.integers(1, 30, size=n).astype(float)\n",
    "    monetary = RNG.gamma(2.0, 100.0, size=n) * RNG.uniform(0.5, 2.0, size=n)\n",
    "    account_age = (pd.Timestamp(\"2025-08-19\") - signup_date).days\n",
    "    last_purchase_date = signup_date + pd.to_timedelta(RNG.integers(0, 1800, size=n), unit=\"D\")\n",
    "    group = RNG.choice([\"A\", \"B\", \"C\", \"D\"], size=n)\n",
    "    conv_prob = {\"A\": 0.05, \"B\": 0.08, \"C\": 0.03, \"D\": 0.10}\n",
    "    purchase = [RNG.random() < conv_prob.get(g, 0.05) for g in group]\n",
    "\n",
    "    # Add interaction and non-linear features\n",
    "    income = np.abs(income)\n",
    "    loyalty_score = np.clip(loyalty_score + 0.2 * (np.array(purchase)), 0, 1)\n",
    "    monetary = np.abs(monetary) + 0.1 * income * loyalty_score\n",
    "\n",
    "    data = pd.DataFrame({\n",
    "        \"customer_id\": customers,\n",
    "        \"age\": ages,\n",
    "        \"gender\": genders,\n",
    "        \"income\": income,\n",
    "        \"region\": region,\n",
    "        \"signup_date\": signup_date,\n",
    "        \"loyalty_score\": loyalty_score,\n",
    "        \"preferred_channel\": preferred_channel,\n",
    "        \"device_type\": device_type,\n",
    "        \"recency\": recency,\n",
    "        \"frequency\": frequency,\n",
    "        \"monetary\": monetary,\n",
    "        \"account_age\": account_age,\n",
    "        \"last_purchase_date\": last_purchase_date,\n",
    "        \"group\": group,\n",
    "        \"purchase\": purchase,\n",
    "    })\n",
    "\n",
    "    # Inject missing values and outliers\n",
    "    for col in [\"recency\", \"frequency\", \"monetary\", \"income\", \"loyalty_score\"]:\n",
    "        miss_idx = RNG.choice(n, size=RNG.integers(30, 100), replace=False)\n",
    "        data.loc[miss_idx, col] = None\n",
    "    neg_idx = RNG.choice(n, size=50, replace=False)\n",
    "    data.loc[neg_idx, \"monetary\"] *= -1  # negative spend\n",
    "    data.loc[RNG.choice(n, size=30, replace=False), \"age\"] = 999  # impossible age\n",
    "    data.loc[RNG.choice(n, size=30, replace=False), \"income\"] = -10000  # negative income\n",
    "    data.loc[RNG.choice(n, size=30, replace=False), \"loyalty_score\"] = 2.0  # out of bounds\n",
    "    data.loc[RNG.choice(n, size=30, replace=False), \"region\"] = \"\"  # empty region\n",
    "    data.loc[RNG.choice(n, size=30, replace=False), \"preferred_channel\"] = \"Unknown\"\n",
    "\n",
    "    path.parent.mkdir(parents=True, exist_ok=True)\n",
    "    data.to_csv(path, index=False)\n",
    "    return data\n",
    "\n",
    "# Generate and save the data\n",
    "data_path = Path(\"generated_data/marketing_data.csv\")\n",
    "df = generate_data(data_path)"
   ]
  },
  {
   "cell_type": "markdown",
   "id": "92dc6c2c",
   "metadata": {},
   "source": [
    "## 3. Load and Clean Data\n",
    "We load the generated CSV data, fix invalid or missing values in 'recency' and 'monetary', and standardize the 'gender' column."
   ]
  },
  {
   "cell_type": "code",
   "execution_count": null,
   "id": "1904b65e",
   "metadata": {},
   "outputs": [],
   "source": [
    "def load_and_clean(path: Path) -> pd.DataFrame:\n",
    "    \"\"\"Load data and fix basic quality issues.\"\"\"\n",
    "    df = pd.read_csv(path)\n",
    "    df[\"recency\"] = df[\"recency\"].apply(lambda x: np.nan if x < 0 else x)\n",
    "    df[\"recency\"].fillna(df[\"recency\"].median(), inplace=True)\n",
    "    df[\"monetary\"] = df[\"monetary\"].abs()\n",
    "    df[\"gender\"] = df[\"gender\"].str.upper().str[0]\n",
    "    return df\n",
    "\n",
    "# Load and clean the data\n",
    "data_path = Path(\"generated_data/marketing_data.csv\")\n",
    "df = load_and_clean(data_path)\n",
    "df.head()"
   ]
  },
  {
   "cell_type": "markdown",
   "id": "cbacada9",
   "metadata": {},
   "source": [
    "## 4. Customer Segmentation with KMeans\n",
    "We apply KMeans clustering to the RFM features to segment customers into groups. The segment labels are added to the DataFrame and segment counts are displayed."
   ]
  },
  {
   "cell_type": "code",
   "execution_count": null,
   "id": "56f3b71a",
   "metadata": {},
   "outputs": [],
   "source": [
    "def segment_customers(df: pd.DataFrame) -> pd.DataFrame:\n",
    "    \"\"\"Perform KMeans clustering on RFM features.\"\"\"\n",
    "    rfm = df[[\"recency\", \"frequency\", \"monetary\"]]\n",
    "    kmeans = KMeans(n_clusters=3, random_state=42)\n",
    "    df[\"segment\"] = kmeans.fit_predict(rfm)\n",
    "    return df\n",
    "\n",
    "# Segment customers\n",
    "df = segment_customers(df)\n",
    "df[\"segment\"].value_counts()"
   ]
  },
  {
   "cell_type": "markdown",
   "id": "1fc6b061",
   "metadata": {},
   "source": [
    "## 5. A/B Testing on Conversion Rates\n",
    "We perform a z-test to compare conversion rates between groups A and B. Conversion rates, z-statistic, and p-value are printed."
   ]
  },
  {
   "cell_type": "code",
   "execution_count": null,
   "id": "664f14d5",
   "metadata": {},
   "outputs": [],
   "source": [
    "def ab_test(df: pd.DataFrame) -> None:\n",
    "    \"\"\"Run a z-test on conversion rates between groups.\"\"\"\n",
    "    summary = df.groupby(\"group\")[\"purchase\"].agg([\"sum\", \"count\"])\n",
    "    successes = summary[\"sum\"].to_numpy()\n",
    "    trials = summary[\"count\"].to_numpy()\n",
    "    stat, pval = proportions_ztest(successes, trials)\n",
    "    rates = successes / trials\n",
    "    print(\"Conversion rates:\\n\", rates)\n",
    "    print(f\"Z-statistic: {stat:.3f}, p-value: {pval:.3f}\")\n",
    "\n",
    "# Run A/B test\n",
    "ab_test(df)"
   ]
  }
 ],
 "metadata": {
  "kernelspec": {
   "display_name": "Python 3",
   "language": "python",
   "name": "python3"
  },
  "language_info": {
   "codemirror_mode": {
    "name": "ipython",
    "version": 3
   },
   "file_extension": ".py",
   "mimetype": "text/x-python",
   "name": "python",
   "nbconvert_exporter": "python",
   "pygments_lexer": "ipython3",
   "version": "3.13.5"
  }
 },
 "nbformat": 4,
 "nbformat_minor": 5
}
